{
  "nbformat": 4,
  "nbformat_minor": 0,
  "metadata": {
    "colab": {
      "provenance": []
    },
    "kernelspec": {
      "name": "python3",
      "display_name": "Python 3"
    },
    "language_info": {
      "name": "python"
    }
  },
  "cells": [
    {
      "cell_type": "code",
      "execution_count": null,
      "metadata": {
        "colab": {
          "base_uri": "https://localhost:8080/"
        },
        "id": "UokzIVnthkWv",
        "outputId": "5c8b6346-82af-49fd-9530-f75a1a1fc820"
      },
      "outputs": [
        {
          "name": "stdout",
          "output_type": "stream",
          "text": [
            "Enter a string:Python\n"
          ]
        }
      ],
      "source": [
        "# 1. Input the string “Python” as a list of characters from console, delete at least 2 characters, reversethe\n",
        "resultant string and print it.\n",
        "# Enter input string\n",
        "in_str = list(input(\"Enter a string:\"))"
      ]
    },
    {
      "cell_type": "code",
      "source": [
        "# Delete 2 characters from the string\n",
        "char_del = min(2, len(in_str))\n",
        "op_str = in_str[char_del:]\n",
        "\n",
        "# print result\n",
        "print(\"Output string after deleting 2 characters: \", op_str)\n"
      ],
      "metadata": {
        "colab": {
          "base_uri": "https://localhost:8080/"
        },
        "id": "h1Zg7iNniKBH",
        "outputId": "1310508a-eaca-40a8-b09c-457a9c65cb68"
      },
      "execution_count": null,
      "outputs": [
        {
          "output_type": "stream",
          "name": "stdout",
          "text": [
            "Output string after deleting 2 characters:  ['t', 'h', 'o', 'n']\n"
          ]
        }
      ]
    },
    {
      "cell_type": "code",
      "source": [
        "# Reverse String\n",
        "rev_str = ''.join(reversed(op_str))\n",
        "\n",
        "# Print reversed string as result\n",
        "print(\"Reversed string: \", rev_str)"
      ],
      "metadata": {
        "colab": {
          "base_uri": "https://localhost:8080/"
        },
        "id": "8wKWyzNejP71",
        "outputId": "7dbcbd49-0ba0-4af2-d22c-23711463d0ba"
      },
      "execution_count": null,
      "outputs": [
        {
          "output_type": "stream",
          "name": "stdout",
          "text": [
            "Reversed string:  noht\n"
          ]
        }
      ]
    },
    {
      "cell_type": "code",
      "source": [
        "# 1b. Take two numbers as user input and perform at least 4 arithmetic operations\n",
        "# Enter two numbers as input\n",
        "number1 = float(input(\"Enter first num: \"))\n",
        "number2 = float(input(\"Enter second num: \"))"
      ],
      "metadata": {
        "colab": {
          "base_uri": "https://localhost:8080/"
        },
        "id": "pFmh1M2ooXlM",
        "outputId": "4a274702-84a6-4fcc-d7e4-744197cea603"
      },
      "execution_count": null,
      "outputs": [
        {
          "name": "stdout",
          "output_type": "stream",
          "text": [
            "Enter first num: 5\n",
            "Enter second num: 10\n"
          ]
        }
      ]
    },
    {
      "cell_type": "code",
      "source": [
        "# Arithmetic operations addition, substraction, multiplication and division\n",
        "Addition = number1 + number2\n",
        "Subtraction = number1 - number2\n",
        "Multiplication = number1 * number2\n",
        "\n",
        "# Print results of addition, substraction and multiplication\n",
        "print(\"Addition: \", Addition)\n",
        "print(\"Substraction: \", Subtraction)\n",
        "print(\"Multiplication: \", Multiplication)"
      ],
      "metadata": {
        "colab": {
          "base_uri": "https://localhost:8080/"
        },
        "id": "xLSRiq1rqGdZ",
        "outputId": "e1c07994-a822-4906-dc4b-cf4a2586024b"
      },
      "execution_count": null,
      "outputs": [
        {
          "output_type": "stream",
          "name": "stdout",
          "text": [
            "Addition:  15.0\n",
            "Substraction:  -5.0\n",
            "Multiplication:  50.0\n"
          ]
        }
      ]
    },
    {
      "cell_type": "code",
      "source": [
        "# Division operation\n",
        "# check number2 is not zero for division\n",
        "if number2 != 0:\n",
        "  Division = number1 / number2\n",
        "else:\n",
        "  Division = \"cannot divide by zero\"\n",
        "\n",
        "# Print result\n",
        "print(\"Division: \", Division)"
      ],
      "metadata": {
        "colab": {
          "base_uri": "https://localhost:8080/"
        },
        "id": "kzFllSjmqG3r",
        "outputId": "69739609-017b-44b7-b086-af443e066cdb"
      },
      "execution_count": null,
      "outputs": [
        {
          "output_type": "stream",
          "name": "stdout",
          "text": [
            "Division:  0.5\n"
          ]
        }
      ]
    },
    {
      "cell_type": "code",
      "source": [
        "# 2. Write a program that accepts a sentence and replace each occurrence of ‘python’ with ‘pythons’.\n",
        "# Enter sentence as input\n",
        "In_Sentence = input(\"Enter a sentence: \")"
      ],
      "metadata": {
        "colab": {
          "base_uri": "https://localhost:8080/"
        },
        "id": "JqY5egXxrihR",
        "outputId": "a0d7f160-f857-49ef-de22-7b52daf0049c"
      },
      "execution_count": null,
      "outputs": [
        {
          "name": "stdout",
          "output_type": "stream",
          "text": [
            "Enter a sentence: I love playing with python\n"
          ]
        }
      ]
    },
    {
      "cell_type": "code",
      "source": [
        "#Replace function is used to replace word\n",
        "modified_sentence = In_Sentence.replace('python','pythons')\n",
        "\n",
        "# print sentence after modification\n",
        "print(\"The sentence after modification: \", modified_sentence)"
      ],
      "metadata": {
        "colab": {
          "base_uri": "https://localhost:8080/"
        },
        "id": "qj6vER_-ri_K",
        "outputId": "913f68e4-5225-4e13-be4a-06a6e86037b0"
      },
      "execution_count": null,
      "outputs": [
        {
          "output_type": "stream",
          "name": "stdout",
          "text": [
            "The sentence after modification:  I love playing with pythons\n"
          ]
        }
      ]
    },
    {
      "cell_type": "code",
      "source": [
        "# 3. Use the if statement conditions to write a program to print the letter grade based on an input class score.\n",
        "# Use the grading scheme we are using in this class.\n",
        "\n",
        "# Enter input score\n",
        "score = float(input(\"Enter total score: \"))"
      ],
      "metadata": {
        "colab": {
          "base_uri": "https://localhost:8080/"
        },
        "id": "A8TgzXXw1lf7",
        "outputId": "65782238-b727-4cab-ff6c-0ea174fed196"
      },
      "execution_count": null,
      "outputs": [
        {
          "name": "stdout",
          "output_type": "stream",
          "text": [
            "Enter total score: 92\n"
          ]
        }
      ]
    },
    {
      "cell_type": "code",
      "source": [
        "# Check score based on grading scheme\n",
        "if score >= 90:\n",
        "  letter_grade = 'A'\n",
        "elif score >= 80:\n",
        "  letter_grade = 'B'\n",
        "elif score >= 70:\n",
        "  letter_garde = 'C'\n",
        "elif score >= 60:\n",
        "  letter_grade = 'D'\n",
        "else:\n",
        "  letter_gradegrade = 'F'\n",
        "# print grade\n",
        "print(\"Final grade for given score is: \", letter_grade)"
      ],
      "metadata": {
        "colab": {
          "base_uri": "https://localhost:8080/"
        },
        "id": "baUpHW8R2MRz",
        "outputId": "e359cb66-ddcb-4db8-a772-f727bedfbafb"
      },
      "execution_count": null,
      "outputs": [
        {
          "output_type": "stream",
          "name": "stdout",
          "text": [
            "Final grade for given score is:  A\n"
          ]
        }
      ]
    }
  ]
}